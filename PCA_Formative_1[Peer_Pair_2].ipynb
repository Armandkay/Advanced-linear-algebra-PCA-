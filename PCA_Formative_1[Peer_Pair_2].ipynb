{
  "cells": [
    {
      "cell_type": "markdown",
      "metadata": {
        "id": "view-in-github",
        "colab_type": "text"
      },
      "source": [
        "<a href=\"https://colab.research.google.com/github/Armandkay/Advanced-linear-algebra-PCA-/blob/main/PCA_Formative_1%5BPeer_Pair_2%5D.ipynb\" target=\"_parent\"><img src=\"https://colab.research.google.com/assets/colab-badge.svg\" alt=\"Open In Colab\"/></a>"
      ]
    },
    {
      "cell_type": "markdown",
      "metadata": {
        "id": "yxbOwxtWV8YW"
      },
      "source": [
        "# Formative Assignment: Advanced Linear Algebra (PCA)\n",
        "This notebook will guide you through the implementation of Principal Component Analysis (PCA). Fill in the missing code and provide the required answers in the appropriate sections. You will work with the `fuel_econ.csv` dataset.\n",
        "\n",
        "Make sure to display outputs for each code cell when submitting."
      ]
    },
    {
      "cell_type": "markdown",
      "metadata": {
        "id": "xkzjqoIUV8Yc"
      },
      "source": [
        "### Step 1: Load and Standardize the Data\n",
        "Before applying PCA, we must standardize the dataset. Standardization ensures that all features have a mean of 0 and a standard deviation of 1, which is essential for PCA.\n",
        "Fill in the code to standardize the dataset."
      ]
    },
    {
      "cell_type": "code",
      "execution_count": null,
      "metadata": {
        "id": "Pvd4rO21V8Yd",
        "outputId": "c3640c91-23ca-446f-995e-14407f73b63f",
        "colab": {
          "base_uri": "https://localhost:8080/"
        }
      },
      "outputs": [
        {
          "output_type": "stream",
          "name": "stdout",
          "text": [
            "Number of rows with all NaN values: 0\n",
            "Number of columns with all NaN values: 5\n",
            "[[-1.73714048  0.         -1.47583548  0.28310163  0.65053594  1.46709627\n",
            "  -1.21737766 -0.85996012 -0.85242986 -1.29062982 -1.39247459 -1.00832279\n",
            "   1.02283829 -0.95057953 -0.94575548]\n",
            " [-1.73668367  0.         -1.47583548 -0.78181585 -0.72799833  1.86476224\n",
            "  -1.21737766  0.00642675 -0.11743408  0.18494654 -0.03920038  0.07186379\n",
            "  -0.29854998  0.1886082   0.1942578 ]\n",
            " [-1.73622685  0.         -1.47583548  0.28310163  0.49736547  1.86476224\n",
            "  -1.21737766 -0.69441634 -0.75324472 -0.5920197  -0.85174957 -0.68633929\n",
            "   0.56793413 -0.38098566 -0.37574884]\n",
            " [-1.73577004  0.         -1.47583548  0.28310163  0.49736547  1.86476224\n",
            "  -1.21737766 -0.78280029 -0.830286   -0.82738386 -1.02758796 -0.81865124\n",
            "   0.752062   -0.38098566 -0.37574884]\n",
            " [-1.73531322  0.         -1.47583548 -0.78181585 -0.42165738 -0.62727784\n",
            "   0.73489021  0.47108294  0.43314691  0.96751585  0.99253135  0.64805881\n",
            "  -0.72096098  1.32779592  1.33427108]]\n"
          ]
        }
      ],
      "source": [
        "# Step 1: Load and Standardize the data (use of numpy only allowed)\n",
        "import numpy as np\n",
        "data = np.genfromtxt(\"fuel_econ.csv\", delimiter=\",\", skip_header=1)\n",
        "row_nan_count = np.isnan(data).all(axis=1).sum()  # Rows that are all NaN\n",
        "col_nan_count = np.isnan(data).all(axis=0).sum()  # Columns that are all NaN\n",
        "\n",
        "print(f\"Number of rows with all NaN values: {row_nan_count}\")\n",
        "print(f\"Number of columns with all NaN values: {col_nan_count}\")\n",
        "\n",
        "# Remove rows and columns with all NaN values\n",
        "data_cleaned = data[~np.isnan(data).all(axis=1)]  # Remove rows where all values are NaN\n",
        "data_cleaned = data_cleaned[:, ~np.isnan(data_cleaned).all(axis=0)]  # Remove columns where all values are NaN\n",
        "\n",
        "# Replace remaining NaN values with the mean of the respective column\n",
        "col_means = np.nanmean(data_cleaned, axis=0)  # Compute the mean, ignoring NaNs\n",
        "inds = np.where(np.isnan(data_cleaned))  # Find indices of NaNs\n",
        "data_cleaned[inds] = np.take(col_means, inds[1])  # Replace NaNs with the column mean\n",
        "\n",
        "# Now compute the mean and standard deviation safely\n",
        "mean = np.mean(data_cleaned, axis=0)\n",
        "std_dev = np.std(data_cleaned, axis=0)\n",
        "\n",
        "standardized_data = (data_cleaned- mean) / std_dev  # Do not use sklearn (Data - Data Mean)/ Data's Standard Deviation\n",
        "print(standardized_data[:5])  # Display the first few rows of standardized data"
      ]
    },
    {
      "cell_type": "markdown",
      "metadata": {
        "id": "kWD3SOJDV8Yj"
      },
      "source": [
        "### Step 3: Calculate the Covariance Matrix\n",
        "The covariance matrix helps us understand how the features are related to each other. It is a key component in PCA."
      ]
    },
    {
      "cell_type": "code",
      "execution_count": null,
      "metadata": {
        "id": "iCQ4JJwlV8Yj",
        "outputId": "25f274bf-30f1-4e27-eb3b-d15747720d88",
        "colab": {
          "base_uri": "https://localhost:8080/"
        }
      },
      "outputs": [
        {
          "output_type": "stream",
          "name": "stdout",
          "text": [
            "[[ 4.79325309e+06  1.20431263e+02  3.65727634e+03 -2.47133355e+02\n",
            "  -2.13475237e+02 -5.42518370e+02 -2.33888210e+03  1.25538750e+03\n",
            "   1.81493122e+03  1.13997238e+03  1.89994311e+03  1.23287180e+03\n",
            "  -2.01589834e+04 -4.91568638e+02 -4.69884696e+02]\n",
            " [ 1.20431263e+02  7.82598269e+02 -2.18304481e-01  1.03640530e+00\n",
            "  -1.43329939e-01 -9.37016293e+00 -6.74607943e+01 -1.06347319e+00\n",
            "  -1.60017263e+00 -2.90565979e+00 -4.62624073e+00 -1.80657944e+00\n",
            "   2.52489817e+01 -2.91751527e-01 -2.91751527e-01]\n",
            " [ 3.65727634e+03 -2.18304481e-01  2.87226244e+00 -1.76079199e-01\n",
            "  -1.55862272e-01  3.98469084e-01 -2.77490768e+00  7.20379807e-01\n",
            "   1.02788291e+00  7.13903170e-01  1.19746444e+00  7.32472572e-01\n",
            "  -1.27017502e+01 -4.45860757e-01 -4.31595520e-01]\n",
            " [-2.47133355e+02  1.03640530e+00 -1.76079199e-01  3.52808170e+00\n",
            "   2.29069407e+00  1.75427170e+01 -3.89820213e-01 -8.13182057e+00\n",
            "  -1.13682133e+01 -8.27252614e+00 -1.31876870e+01 -8.32195681e+00\n",
            "   1.47126210e+02 -2.58521522e+00 -2.57661138e+00]\n",
            " [-2.13475237e+02 -1.43329939e-01 -1.55862272e-01  2.29069407e+00\n",
            "   1.70537709e+00  1.27761871e+01  1.40276520e+00 -5.81985842e+00\n",
            "  -8.14271083e+00 -5.88439493e+00 -9.37021983e+00 -5.94556348e+00\n",
            "   1.03145743e+02 -1.81932407e+00 -1.81292851e+00]\n",
            " [-5.42518370e+02 -9.37016293e+00  3.98469084e-01  1.75427170e+01\n",
            "   1.27761871e+01  1.42316813e+03 -1.22210421e+03 -6.55335690e+01\n",
            "  -9.34323738e+01 -6.43558694e+01 -1.02480247e+02 -6.58768227e+01\n",
            "   1.00045458e+03 -1.96127958e+01 -1.94045174e+01]\n",
            " [-2.33888210e+03 -6.74607943e+01 -2.77490768e+00 -3.89820213e-01\n",
            "   1.40276520e+00 -1.22210421e+03  2.36853032e+03  1.06967145e+01\n",
            "   1.67476009e+01  2.09654743e+01  3.42986493e+01  1.38289278e+01\n",
            "  -2.25382487e+02  5.54385434e+00  5.57290001e+00]\n",
            " [ 1.25538750e+03 -1.06347319e+00  7.20379807e-01 -8.13182057e+00\n",
            "  -5.81985842e+00 -6.55335690e+01  1.06967145e+01  3.90159245e+01\n",
            "   5.65554627e+01  3.28649227e+01  5.17083738e+01  3.71061464e+01\n",
            "  -5.21579457e+02  9.93312740e+00  9.85044516e+00]\n",
            " [ 1.81493122e+03 -1.60017263e+00  1.02788291e+00 -1.13682133e+01\n",
            "  -8.14271083e+00 -9.34323738e+01  1.67476009e+01  5.65554627e+01\n",
            "   8.25771126e+01  4.69832163e+01  7.42467924e+01  5.35219417e+01\n",
            "  -7.43295076e+02  1.42213969e+01  1.41020619e+01]\n",
            " [ 1.13997238e+03 -2.90565979e+00  7.13903170e-01 -8.27252614e+00\n",
            "  -5.88439493e+00 -6.43558694e+01  2.09654743e+01  3.28649227e+01\n",
            "   4.69832163e+01  3.30345685e+01  5.18968532e+01  3.32190459e+01\n",
            "  -4.86385543e+02  9.22519726e+00  9.05180367e+00]\n",
            " [ 1.89994311e+03 -4.62624073e+00  1.19746444e+00 -1.31876870e+01\n",
            "  -9.37021983e+00 -1.02480247e+02  3.42986493e+01  5.17083738e+01\n",
            "   7.42467924e+01  5.18968532e+01  8.28176938e+01  5.22599403e+01\n",
            "  -7.66473144e+02  1.45626010e+01  1.42799627e+01]\n",
            " [ 1.23287180e+03 -1.80657944e+00  7.32472572e-01 -8.32195681e+00\n",
            "  -5.94556348e+00 -6.58768227e+01  1.38289278e+01  3.71061464e+01\n",
            "   5.35219417e+01  3.32190459e+01  5.22599403e+01  3.60389572e+01\n",
            "  -5.15196511e+02  9.79100852e+00  9.67800011e+00]\n",
            " [-2.01589834e+04  2.52489817e+01 -1.27017502e+01  1.47126210e+02\n",
            "   1.03145743e+02  1.00045458e+03 -2.25382487e+02 -5.21579457e+02\n",
            "  -7.43295076e+02 -4.86385543e+02 -7.66473144e+02 -5.15196511e+02\n",
            "   8.52647098e+03 -1.52507355e+02 -1.53035501e+02]\n",
            " [-4.91568638e+02 -2.91751527e-01 -4.45860757e-01 -2.58521522e+00\n",
            "  -1.81932407e+00 -1.96127958e+01  5.54385434e+00  9.93312740e+00\n",
            "   1.42213969e+01  9.22519726e+00  1.45626010e+01  9.79100852e+00\n",
            "  -1.52507355e+02  3.08304560e+00  3.06303978e+00]\n",
            " [-4.69884696e+02 -2.91751527e-01 -4.31595520e-01 -2.57661138e+00\n",
            "  -1.81292851e+00 -1.94045174e+01  5.57290001e+00  9.85044516e+00\n",
            "   1.41020619e+01  9.05180367e+00  1.42799627e+01  9.67800011e+00\n",
            "  -1.53035501e+02  3.06303978e+00  3.07858195e+00]]\n"
          ]
        }
      ],
      "source": [
        "# Step 3: Calculate the Covariance Matrix\n",
        "cov_matrix = np.cov(data_cleaned, rowvar=False)  # Calculate covariance matrix\n",
        "print(cov_matrix)"
      ]
    },
    {
      "cell_type": "markdown",
      "metadata": {
        "id": "kUo9vkvfV8Yl"
      },
      "source": [
        "### Step 4: Perform Eigendecomposition\n",
        "Eigendecomposition of the covariance matrix will give us the eigenvalues and eigenvectors, which are essential for PCA.\n",
        "Fill in the code to compute the eigenvalues and eigenvectors of the covariance matrix."
      ]
    },
    {
      "cell_type": "code",
      "execution_count": null,
      "metadata": {
        "id": "eafVPzBxV8Ym",
        "outputId": "c38905e2-9bcd-4d51-fb98-cffcdfe0023a",
        "colab": {
          "base_uri": "https://localhost:8080/"
        }
      },
      "outputs": [
        {
          "output_type": "execute_result",
          "data": {
            "text/plain": [
              "(array([4.79334450e+06, 8.83933300e+03, 3.10359758e+03, 7.89676293e+02,\n",
              "        5.14916878e+02, 3.64336998e+01, 1.09988146e+01, 1.05511813e+00,\n",
              "        4.75074992e-01, 2.68307430e-01, 1.44384859e-01, 1.04529085e-01,\n",
              "        7.52000941e-02, 1.31451641e-02, 1.43411844e-02]),\n",
              " array([[-9.99990448e-01, -4.19745923e-03, -9.14718610e-04,\n",
              "          1.77307413e-05, -1.93997579e-05,  4.60546475e-06,\n",
              "         -1.02260314e-05,  7.05804025e-06, -9.52634256e-06,\n",
              "         -3.43454511e-04,  6.12049969e-05,  3.39675290e-05,\n",
              "         -7.24155817e-04, -1.56233959e-05,  1.19727251e-06],\n",
              "        [-2.51125981e-05, -3.59411033e-03,  2.06985040e-02,\n",
              "         -9.84798163e-01,  1.72383996e-01, -2.22895331e-03,\n",
              "          2.95238016e-03, -6.07469098e-04,  1.38344042e-04,\n",
              "          4.80567703e-04,  6.97968482e-04, -1.33167574e-04,\n",
              "          3.95329479e-04,  4.84439880e-05,  1.52496977e-04],\n",
              "        [-7.62995427e-04, -3.29133650e-04,  2.86369332e-04,\n",
              "          4.01983069e-04, -2.97529912e-04,  3.55010726e-03,\n",
              "          7.72122277e-03, -2.47246127e-02,  2.13765161e-02,\n",
              "          1.25492239e-01, -6.13829694e-02, -5.26467625e-03,\n",
              "          9.89439482e-01,  7.37312331e-03, -1.64242719e-02],\n",
              "        [ 5.16900799e-05, -1.68082508e-02, -3.18381362e-03,\n",
              "         -6.04060824e-04,  2.74144753e-03, -4.67184757e-02,\n",
              "         -9.64867418e-02,  8.49381757e-01, -4.90122976e-02,\n",
              "          2.09427075e-02, -5.11697520e-01,  4.21744374e-02,\n",
              "         -1.09756598e-02, -1.23620478e-02, -5.53743029e-03],\n",
              "        [ 4.46287855e-05, -1.17648279e-02, -2.59844977e-03,\n",
              "          9.15876353e-04,  4.14373895e-03, -2.54856662e-02,\n",
              "         -6.76827355e-02,  4.97934224e-01, -5.11109884e-02,\n",
              "          3.00783370e-02,  8.27505306e-01, -2.31594189e-01,\n",
              "          6.10061546e-02, -2.98782714e-03,  3.19256205e-02],\n",
              "        [ 1.13995024e-04, -1.45609016e-01,  5.29297053e-01,\n",
              "          1.55419166e-01,  8.21051095e-01, -1.80428631e-02,\n",
              "         -1.73224315e-04, -5.52368221e-03,  1.19038945e-03,\n",
              "         -9.28007834e-04, -1.97581223e-03, -5.18416718e-04,\n",
              "         -1.18512922e-04, -1.12570465e-04,  2.24543494e-04],\n",
              "        [ 4.87947444e-04,  6.40980206e-02, -8.37735949e-01,\n",
              "          7.61242435e-02,  5.36816216e-01, -6.73225333e-03,\n",
              "         -6.31908087e-03, -5.65959293e-03,  1.38973543e-03,\n",
              "         -1.76334697e-04, -1.87979406e-03, -4.89493932e-04,\n",
              "          2.04700191e-04, -1.24837040e-04,  2.38196934e-04],\n",
              "        [-2.62372995e-04,  5.98689230e-02,  8.22040391e-03,\n",
              "         -8.67434730e-04, -4.71665073e-03, -3.98156272e-01,\n",
              "         -2.90386412e-01, -7.77582474e-02,  2.53047311e-01,\n",
              "         -3.59771707e-02, -1.08142013e-01, -5.74368878e-01,\n",
              "         -1.90483386e-02,  7.26599604e-02, -5.78672729e-01],\n",
              "        [-3.79306672e-04,  8.53536664e-02,  1.13057665e-02,\n",
              "         -9.94009982e-04, -5.27753204e-03, -6.27122262e-01,\n",
              "         -4.92634067e-01, -7.51849971e-02, -3.15373819e-01,\n",
              "          9.11681876e-02,  9.54995651e-02,  4.79984295e-01,\n",
              "          9.04237602e-03, -1.54410423e-02,  5.77662701e-02],\n",
              "        [-2.38261758e-04,  5.59424066e-02,  4.11989956e-03,\n",
              "          2.02999567e-03,  1.35806808e-03, -2.84607088e-01,\n",
              "          4.09418076e-01,  1.23229371e-01,  6.53929998e-01,\n",
              "          6.80648235e-02,  1.33046387e-01,  4.77195689e-01,\n",
              "         -1.51412709e-02,  3.12636052e-02, -2.32715744e-01],\n",
              "        [-3.97060700e-04,  8.81453387e-02,  5.94220765e-03,\n",
              "          3.17585622e-03,  1.73700542e-03, -4.61659614e-01,\n",
              "          6.99386027e-01,  7.43110551e-03, -4.90784417e-01,\n",
              "          1.92232198e-02, -5.02505519e-02, -2.13519434e-01,\n",
              "         -7.51848223e-05,  1.34222005e-02, -1.79300993e-02],\n",
              "        [-2.57669503e-04,  5.91633438e-02,  7.03074255e-03,\n",
              "          1.86233249e-04, -3.29223882e-03, -3.51739933e-01,\n",
              "         -3.69133422e-02, -3.00312373e-02,  4.02056254e-01,\n",
              "         -6.01638444e-02, -8.65004634e-02, -3.15148029e-01,\n",
              "          6.02689207e-03, -7.00747514e-02,  7.70348981e-01],\n",
              "        [ 4.21327567e-03, -9.73820969e-01, -1.31500157e-01,\n",
              "         -1.43241273e-02, -8.88564865e-02, -1.56861486e-01,\n",
              "          2.57864394e-02, -2.46997721e-02,  6.14709763e-03,\n",
              "         -1.83977562e-02, -5.54184566e-04,  5.84313382e-04,\n",
              "          1.59820910e-03,  1.41499046e-03, -8.66004463e-05],\n",
              "        [ 1.02413691e-04,  1.78919600e-02,  1.91184412e-03,\n",
              "         -1.52034656e-04,  4.99274350e-04, -4.05686545e-02,\n",
              "          1.32184252e-02,  1.76554302e-02, -1.16223705e-02,\n",
              "         -6.72064889e-01,  2.52905879e-02,  6.25197177e-02,\n",
              "          9.15554593e-02, -7.22625792e-01, -1.03046701e-01],\n",
              "        [ 9.78895671e-05,  1.79302093e-02,  1.95381478e-03,\n",
              "         -9.95336389e-05,  9.53374763e-04, -2.94204160e-02,\n",
              "         -4.71485927e-03,  3.42698963e-02, -2.67519473e-02,\n",
              "         -7.16009376e-01,  2.14766637e-02,  8.79719335e-02,\n",
              "          8.98410400e-02,  6.82647703e-01,  4.41230743e-02]]))"
            ]
          },
          "metadata": {},
          "execution_count": 10
        }
      ],
      "source": [
        "# Step 4: Perform Eigendecomposition\n",
        "eigenvalues, eigenvectors = np.linalg.eig(cov_matrix)   # Perform eigendecomposition\n",
        "eigenvalues, eigenvectors"
      ]
    },
    {
      "cell_type": "markdown",
      "metadata": {
        "id": "sRK3JnyTV8Ym"
      },
      "source": [
        "### Step 5: Sort Principal Components\n",
        "Sort the eigenvectors based on their corresponding eigenvalues in descending order. The higher the eigenvalue, the more important the eigenvector.\n",
        "Complete the code to sort the eigenvectors and print the sorted components."
      ]
    },
    {
      "cell_type": "code",
      "execution_count": null,
      "metadata": {
        "id": "1B6Nk6PvV8Yn"
      },
      "outputs": [],
      "source": [
        "# Step 5: Sort Principal Components\n",
        "sorted_indices = eigenvalues.argsort()[::-1] # Sort eigenvalues in descending order\n",
        "sorted_eigenvectors = eigenvectors[:, sorted_indices]   # Sort eigenvectors accordingly\n",
        "sorted_eigenvectors"
      ]
    },
    {
      "cell_type": "markdown",
      "metadata": {
        "id": "KI6nB1GiV8Yo"
      },
      "source": [
        "### Step 6: Project Data onto Principal Components\n",
        "Now that we’ve selected the number of components, we will project the original data onto the chosen principal components.\n",
        "Fill in the code to perform the projection."
      ]
    },
    {
      "cell_type": "code",
      "execution_count": null,
      "metadata": {
        "id": "TmKpNMGaV8Yp"
      },
      "outputs": [],
      "source": [
        "# Step 6: Project Data onto Principal Components\n",
        "num_components = None  # Decide on the number of principal components to keep\n",
        "reduced_data = None  # Project data onto the principal components\n",
        "reduced_data[:5]"
      ]
    },
    {
      "cell_type": "markdown",
      "metadata": {
        "id": "8zbUjLOAV8Yq"
      },
      "source": [
        "### Step 7: Output the Reduced Data\n",
        "Finally, display the reduced data obtained by projecting the original dataset onto the selected principal components."
      ]
    },
    {
      "cell_type": "code",
      "execution_count": null,
      "metadata": {
        "id": "sBhzkk8tV8Yr"
      },
      "outputs": [],
      "source": [
        "# Step 7: Output the Reduced Data\n",
        "print(f'Reduced Data Shape: {reduced_data.shape}')  # Display reduced data shape\n",
        "reduced_data[:5]  # Display the first few rows of reduced data"
      ]
    },
    {
      "cell_type": "markdown",
      "metadata": {
        "id": "ej1CrLvRV8Yr"
      },
      "source": [
        "### Step 8: Visualize Before and After PCA\n",
        "Now, let's plot the original data and the data after PCA to compare the reduction in dimensions visually."
      ]
    },
    {
      "cell_type": "code",
      "execution_count": null,
      "metadata": {
        "id": "k16xx3GYV8Ys"
      },
      "outputs": [],
      "source": [
        "# Step 8: Visualize Before and After PCA\n",
        "\n",
        "\n",
        "# Plot original data (first two features for simplicity)\n",
        "\n",
        "\n",
        "# Plot reduced data after PCA\n"
      ]
    }
  ],
  "metadata": {
    "kernelspec": {
      "display_name": "Python 3",
      "name": "python3"
    },
    "language_info": {
      "name": "python",
      "version": "3.8.8"
    },
    "colab": {
      "provenance": [],
      "include_colab_link": true
    }
  },
  "nbformat": 4,
  "nbformat_minor": 0
}