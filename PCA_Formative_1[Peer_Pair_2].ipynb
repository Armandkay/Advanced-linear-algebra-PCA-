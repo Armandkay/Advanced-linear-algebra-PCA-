{
  "cells": [
    {
      "cell_type": "markdown",
      "metadata": {
        "id": "view-in-github",
        "colab_type": "text"
      },
      "source": [
        "<a href=\"https://colab.research.google.com/github/Armandkay/Advanced-linear-algebra-PCA-/blob/main/PCA_Formative_1%5BPeer_Pair_2%5D.ipynb\" target=\"_parent\"><img src=\"https://colab.research.google.com/assets/colab-badge.svg\" alt=\"Open In Colab\"/></a>"
      ]
    },
    {
      "cell_type": "markdown",
      "metadata": {
        "id": "yxbOwxtWV8YW"
      },
      "source": [
        "# Formative Assignment: Advanced Linear Algebra (PCA)\n",
        "This notebook will guide you through the implementation of Principal Component Analysis (PCA). Fill in the missing code and provide the required answers in the appropriate sections. You will work with the `fuel_econ.csv` dataset.\n",
        "\n",
        "Make sure to display outputs for each code cell when submitting."
      ]
    },
    {
      "cell_type": "markdown",
      "metadata": {
        "id": "xkzjqoIUV8Yc"
      },
      "source": [
        "### Step 1: Load and Standardize the Data\n",
        "Before applying PCA, we must standardize the dataset. Standardization ensures that all features have a mean of 0 and a standard deviation of 1, which is essential for PCA.\n",
        "Fill in the code to standardize the dataset."
      ]
    },
    {
      "cell_type": "code",
      "execution_count": null,
      "metadata": {
        "id": "Pvd4rO21V8Yd"
      },
      "outputs": [],
      "source": [
        "# Step 1: Load and Standardize the data (use of numpy only allowed)\n",
        "\n",
        "standardized_data = dddd # Do not use sklearn (Data - Data Mean)/ Data's Standard Deviation\n",
        "standardized_data[:5]  # Display the first few rows of standardized data"
      ]
    },
    {
      "cell_type": "markdown",
      "metadata": {
        "id": "kWD3SOJDV8Yj"
      },
      "source": [
        "### Step 3: Calculate the Covariance Matrix\n",
        "The covariance matrix helps us understand how the features are related to each other. It is a key component in PCA."
      ]
    },
    {
      "cell_type": "code",
      "execution_count": null,
      "metadata": {
        "id": "iCQ4JJwlV8Yj"
      },
      "outputs": [],
      "source": [
        "# Step 3: Calculate the Covariance Matrix\n",
        "cov_matrix = None  # Calculate covariance matrix\n",
        "cov_matrix"
      ]
    },
    {
      "cell_type": "markdown",
      "metadata": {
        "id": "kUo9vkvfV8Yl"
      },
      "source": [
        "### Step 4: Perform Eigendecomposition\n",
        "Eigendecomposition of the covariance matrix will give us the eigenvalues and eigenvectors, which are essential for PCA.\n",
        "Fill in the code to compute the eigenvalues and eigenvectors of the covariance matrix."
      ]
    },
    {
      "cell_type": "code",
      "execution_count": null,
      "metadata": {
        "id": "eafVPzBxV8Ym"
      },
      "outputs": [],
      "source": [
        "# Step 4: Perform Eigendecomposition\n",
        "eigenvalues, eigenvectors = None  # Perform eigendecomposition\n",
        "eigenvalues, eigenvectors"
      ]
    },
    {
      "cell_type": "markdown",
      "metadata": {
        "id": "sRK3JnyTV8Ym"
      },
      "source": [
        "### Step 5: Sort Principal Components\n",
        "Sort the eigenvectors based on their corresponding eigenvalues in descending order. The higher the eigenvalue, the more important the eigenvector.\n",
        "Complete the code to sort the eigenvectors and print the sorted components."
      ]
    },
    {
      "cell_type": "code",
      "execution_count": null,
      "metadata": {
        "id": "1B6Nk6PvV8Yn"
      },
      "outputs": [],
      "source": [
        "# Step 5: Sort Principal Components\n",
        "sorted_indices = None  # Sort eigenvalues in descending order\n",
        "sorted_eigenvectors = None  # Sort eigenvectors accordingly\n",
        "sorted_eigenvectors"
      ]
    },
    {
      "cell_type": "markdown",
      "metadata": {
        "id": "KI6nB1GiV8Yo"
      },
      "source": [
        "### Step 6: Project Data onto Principal Components\n",
        "Now that we’ve selected the number of components, we will project the original data onto the chosen principal components.\n",
        "Fill in the code to perform the projection."
      ]
    },
    {
      "cell_type": "code",
      "execution_count": null,
      "metadata": {
        "id": "TmKpNMGaV8Yp"
      },
      "outputs": [],
      "source": [
        "# Step 6: Project Data onto Principal Components\n",
        "num_components = None  # Decide on the number of principal components to keep\n",
        "reduced_data = None  # Project data onto the principal components\n",
        "reduced_data[:5]"
      ]
    },
    {
      "cell_type": "markdown",
      "metadata": {
        "id": "8zbUjLOAV8Yq"
      },
      "source": [
        "### Step 7: Output the Reduced Data\n",
        "Finally, display the reduced data obtained by projecting the original dataset onto the selected principal components."
      ]
    },
    {
      "cell_type": "code",
      "execution_count": null,
      "metadata": {
        "id": "sBhzkk8tV8Yr"
      },
      "outputs": [],
      "source": [
        "# Step 7: Output the Reduced Data\n",
        "print(f'Reduced Data Shape: {reduced_data.shape}')  # Display reduced data shape\n",
        "reduced_data[:5]  # Display the first few rows of reduced data"
      ]
    },
    {
      "cell_type": "markdown",
      "metadata": {
        "id": "ej1CrLvRV8Yr"
      },
      "source": [
        "### Step 8: Visualize Before and After PCA\n",
        "Now, let's plot the original data and the data after PCA to compare the reduction in dimensions visually."
      ]
    },
    {
      "cell_type": "code",
      "execution_count": null,
      "metadata": {
        "id": "k16xx3GYV8Ys"
      },
      "outputs": [],
      "source": [
        "# Step 8: Visualize Before and After PCA\n",
        "\n",
        "\n",
        "# Plot original data (first two features for simplicity)\n",
        "\n",
        "\n",
        "# Plot reduced data after PCA\n"
      ]
    }
  ],
  "metadata": {
    "kernelspec": {
      "display_name": "Python 3",
      "name": "python3"
    },
    "language_info": {
      "name": "python",
      "version": "3.8.8"
    },
    "colab": {
      "provenance": [],
      "include_colab_link": true
    }
  },
  "nbformat": 4,
  "nbformat_minor": 0
}